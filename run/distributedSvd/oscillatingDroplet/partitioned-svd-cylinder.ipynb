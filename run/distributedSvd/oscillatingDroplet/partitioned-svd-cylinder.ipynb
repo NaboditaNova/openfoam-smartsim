{
 "cells": [
  {
   "cell_type": "markdown",
   "id": "0dbc0d90-a79d-4bfa-a4ef-f302f77b7aef",
   "metadata": {},
   "source": [
    "# Computing the SVD of the flow past a cylinder"
   ]
  },
  {
   "cell_type": "code",
   "execution_count": 1,
   "id": "1c5b13b6-6e75-49f5-b6f3-3acdc25e5194",
   "metadata": {},
   "outputs": [],
   "source": [
    "from smartsim import Experiment\n",
    "from smartredis import Client\n",
    "import numpy as np\n",
    "import matplotlib.pyplot as plt\n",
    "from scipy.signal import welch\n",
    "\n",
    "plt.rcParams[\"figure.dpi\"] = 180"
   ]
  },
  {
   "cell_type": "code",
   "execution_count": 2,
   "id": "966cbfb7-532e-4e20-9726-5d01f0dd5a6c",
   "metadata": {},
   "outputs": [],
   "source": [
    "# location of OpenFOAM case\n",
    "case_name = \"cylinder2D\"\n",
    "# number of subdomains (MPI-ranks) in the OpenFOAM simulation\n",
    "mpi_ranks = 4\n",
    "# function object name\n",
    "fo_name = \"dataToSmartRedis\"\n",
    "# field of which to compute the SVD\n",
    "field_name = \"U\""
   ]
  },
  {
   "cell_type": "markdown",
   "id": "89e95351-456b-4309-9e91-5996fee3584a",
   "metadata": {},
   "source": [
    "## Setting up experiment and database"
   ]
  },
  {
   "cell_type": "code",
   "execution_count": 3,
   "id": "cd9e79b1-a733-4446-8e39-454fc6ad9d0a",
   "metadata": {},
   "outputs": [],
   "source": [
    "exp = Experiment(\"partitioned-svd-cylinder\", launcher=\"local\")\n",
    "db = exp.create_database(port=8000, interface=\"lo\")\n",
    "exp.start(db)"
   ]
  },
  {
   "cell_type": "markdown",
   "id": "ed3afd38-6d13-429d-a026-78e68e8d11de",
   "metadata": {},
   "source": [
    "## Running the simulation"
   ]
  },
  {
   "cell_type": "code",
   "execution_count": 4,
   "id": "fe1ca409-6ef1-498f-93d2-3cfd429dddce",
   "metadata": {
    "tags": []
   },
   "outputs": [
    {
     "name": "stdout",
     "output_type": "stream",
     "text": [
      "15:47:31 andre-XP1511 SmartSim[93200] INFO blockMesh(93299): Completed\n",
      "15:47:33 andre-XP1511 SmartSim[93200] INFO cp(93479): Completed\n",
      "15:47:39 andre-XP1511 SmartSim[93200] INFO setExprBoundaryFields(93491): Completed\n",
      "15:47:45 andre-XP1511 SmartSim[93200] INFO decomposePar(93500): Completed\n",
      "15:47:51 andre-XP1511 SmartSim[93200] INFO renumberMesh(93507): Completed\n",
      "15:47:58 andre-XP1511 SmartSim[93200] INFO pimpleFoam(93538): Running\n",
      "15:48:03 andre-XP1511 SmartSim[93200] INFO pimpleFoam(93538): Running\n",
      "15:48:08 andre-XP1511 SmartSim[93200] INFO pimpleFoam(93538): Running\n",
      "15:48:13 andre-XP1511 SmartSim[93200] INFO pimpleFoam(93538): Running\n",
      "15:48:18 andre-XP1511 SmartSim[93200] INFO pimpleFoam(93538): Running\n",
      "15:48:23 andre-XP1511 SmartSim[93200] INFO pimpleFoam(93538): Running\n",
      "15:48:28 andre-XP1511 SmartSim[93200] INFO pimpleFoam(93538): Running\n",
      "15:48:33 andre-XP1511 SmartSim[93200] INFO pimpleFoam(93538): Running\n",
      "15:48:38 andre-XP1511 SmartSim[93200] INFO pimpleFoam(93538): Running\n",
      "15:48:43 andre-XP1511 SmartSim[93200] INFO pimpleFoam(93538): Running\n",
      "15:48:48 andre-XP1511 SmartSim[93200] INFO pimpleFoam(93538): Running\n",
      "15:48:53 andre-XP1511 SmartSim[93200] INFO pimpleFoam(93538): Running\n",
      "15:48:58 andre-XP1511 SmartSim[93200] INFO pimpleFoam(93538): Running\n",
      "15:49:03 andre-XP1511 SmartSim[93200] INFO pimpleFoam(93538): Running\n",
      "15:49:08 andre-XP1511 SmartSim[93200] INFO pimpleFoam(93538): Running\n",
      "15:49:13 andre-XP1511 SmartSim[93200] INFO pimpleFoam(93538): Running\n",
      "15:49:18 andre-XP1511 SmartSim[93200] INFO pimpleFoam(93538): Running\n",
      "15:49:23 andre-XP1511 SmartSim[93200] INFO pimpleFoam(93538): Running\n",
      "15:49:28 andre-XP1511 SmartSim[93200] INFO pimpleFoam(93538): Running\n",
      "15:49:33 andre-XP1511 SmartSim[93200] INFO pimpleFoam(93538): Running\n",
      "15:49:38 andre-XP1511 SmartSim[93200] INFO pimpleFoam(93538): Running\n",
      "15:49:43 andre-XP1511 SmartSim[93200] INFO pimpleFoam(93538): Running\n",
      "15:49:48 andre-XP1511 SmartSim[93200] INFO pimpleFoam(93538): Running\n",
      "15:49:53 andre-XP1511 SmartSim[93200] INFO pimpleFoam(93538): Running\n",
      "15:49:58 andre-XP1511 SmartSim[93200] INFO pimpleFoam(93538): Running\n",
      "15:50:03 andre-XP1511 SmartSim[93200] INFO pimpleFoam(93538): Running\n",
      "15:50:08 andre-XP1511 SmartSim[93200] INFO pimpleFoam(93538): Running\n",
      "15:50:13 andre-XP1511 SmartSim[93200] INFO pimpleFoam(93538): Running\n",
      "15:50:18 andre-XP1511 SmartSim[93200] INFO pimpleFoam(93538): Running\n",
      "15:50:23 andre-XP1511 SmartSim[93200] INFO pimpleFoam(93538): Running\n",
      "15:50:28 andre-XP1511 SmartSim[93200] INFO pimpleFoam(93538): Running\n",
      "15:50:33 andre-XP1511 SmartSim[93200] INFO pimpleFoam(93538): Running\n",
      "15:50:38 andre-XP1511 SmartSim[93200] INFO pimpleFoam(93538): Running\n",
      "15:50:43 andre-XP1511 SmartSim[93200] INFO pimpleFoam(93538): Running\n",
      "15:50:48 andre-XP1511 SmartSim[93200] INFO pimpleFoam(93538): Running\n",
      "15:50:53 andre-XP1511 SmartSim[93200] INFO pimpleFoam(93538): Running\n",
      "15:50:58 andre-XP1511 SmartSim[93200] INFO pimpleFoam(93538): Running\n",
      "15:51:01 andre-XP1511 SmartSim[93200] INFO pimpleFoam(93538): Completed\n"
     ]
    }
   ],
   "source": [
    "# create blockMesh\n",
    "blockMesh_settings = exp.create_run_settings(exe=\"blockMesh\", exe_args=f\"-case {case_name}\")\n",
    "blockMesh_model = exp.create_model(name=\"blockMesh\", run_settings=blockMesh_settings)\n",
    "exp.start(blockMesh_model, summary=False, block=True) \n",
    "# create copy of original zero folder\n",
    "cp_settings = exp.create_run_settings(exe=\"cp\", exe_args=f\"-r {case_name}/0.org {case_name}/0\")\n",
    "cp_model = exp.create_model(name=\"cp\", run_settings=cp_settings)\n",
    "exp.start(cp_model, summary=False, block=True) \n",
    "# set inlet velocity\n",
    "setExp_settings = exp.create_run_settings(exe=\"setExprBoundaryFields\", exe_args=f\"-case {case_name}\")\n",
    "setExp_model = exp.create_model(name=\"setExprBoundaryFields\", run_settings=setExp_settings)\n",
    "exp.start(setExp_model, summary=False, block=True)\n",
    "# decompose domain\n",
    "decomposePar_settings = exp.create_run_settings(exe=\"decomposePar\", exe_args=f\"-case {case_name}\")\n",
    "decomposePar_model = exp.create_model(name=\"decomposePar\", run_settings=decomposePar_settings)\n",
    "exp.start(decomposePar_model, summary=False, block=True)\n",
    "# renumber mesh cells\n",
    "renumberMesh_settings = exp.create_run_settings(\n",
    "    exe=\"renumberMesh\", exe_args=f\"-case {case_name} -parallel -overwrite\", \n",
    "    run_command=\"mpirun\", run_args={\"np\": f\"{mpi_ranks}\"}\n",
    ")\n",
    "renumberMesh_model = exp.create_model(name=\"renumberMesh\", run_settings=renumberMesh_settings)\n",
    "exp.start(renumberMesh_model, summary=False, block=True)\n",
    "# run the solver\n",
    "pimpleFoam_settings = exp.create_run_settings(\n",
    "    exe=\"pimpleFoam\", exe_args=f\"-case {case_name} -parallel\", \n",
    "    run_command=\"mpirun\", run_args={\"np\": f\"{mpi_ranks}\"}\n",
    ")\n",
    "pimpleFoam_model = exp.create_model(name=\"pimpleFoam\", run_settings=pimpleFoam_settings)\n",
    "exp.start(pimpleFoam_model, summary=False, block=True)"
   ]
  },
  {
   "cell_type": "markdown",
   "id": "607ecb12-4ba5-46cc-8e0c-2acb5d22d92a",
   "metadata": {},
   "source": [
    "## Connecting to the database"
   ]
  },
  {
   "cell_type": "code",
   "execution_count": 5,
   "id": "4d1ba9b6-fdcd-44ac-a112-28e084341bd6",
   "metadata": {},
   "outputs": [
    {
     "name": "stdout",
     "output_type": "stream",
     "text": [
      "SmartRedis Library@15-51-03:WARNING: Environment variable SR_LOG_FILE is not set. Defaulting to stdout\n",
      "SmartRedis Library@15-51-03:WARNING: Environment variable SR_LOG_LEVEL is not set. Defaulting to INFO\n"
     ]
    }
   ],
   "source": [
    "client = Client(address=db.get_address()[0], cluster=False)"
   ]
  },
  {
   "cell_type": "markdown",
   "id": "fbf6ae3f-fbe5-4054-ab7f-b616c09a37e7",
   "metadata": {},
   "source": [
    "## Computing the SVD"
   ]
  },
  {
   "cell_type": "code",
   "execution_count": 6,
   "id": "341e49c5-6020-4e60-920e-b12aa6cf5c61",
   "metadata": {},
   "outputs": [],
   "source": [
    "time_indices = list(range(10, 4001, 10))"
   ]
  },
  {
   "cell_type": "code",
   "execution_count": 7,
   "id": "771b8b86-1714-4f58-8ab8-47168cf7f408",
   "metadata": {},
   "outputs": [],
   "source": [
    "def fetch_snapshot(time_index, mpi_rank):\n",
    "    dataset_name = f\"{fo_name}_time_index_{time_index}_mpi_rank_{mpi_rank}\"\n",
    "    if client.dataset_exists(dataset_name):\n",
    "        dataset = client.get_dataset(dataset_name)\n",
    "        return dataset.get_tensor(f\"field_name_{field_name}_patch_internal\").flatten()\n",
    "    else:\n",
    "        return None\n",
    "    \n",
    "def fetch_timeseries(time_indices, mpi_rank):\n",
    "    return np.vstack([fetch_snapshot(ti, mpi_rank) for ti in time_indices]).T"
   ]
  },
  {
   "cell_type": "code",
   "execution_count": 8,
   "id": "2d928a04-c007-4375-b962-8789e32814db",
   "metadata": {},
   "outputs": [],
   "source": [
    "def compute_partitioned_svd(svd_rank):\n",
    "    # compute partial SVD for each MPI rank\n",
    "    svd_settings = exp.create_run_settings(exe=\"python3\", exe_args=f\"partial_svd.py\")\n",
    "    params = {\"mpi_rank\" : list(range(mpi_ranks))}\n",
    "    ensemble = exp.create_ensemble(\"svd_ensemble\", params=params, run_settings=svd_settings, perm_strategy=\"all_perm\")\n",
    "    config_file = \"./partial_svd.py\"\n",
    "    ensemble.attach_generator_files(to_configure=config_file)\n",
    "    exp.generate(ensemble, overwrite=True)\n",
    "    exp.start(ensemble, summary=False, block=True)\n",
    "    # assemble Y matrix and compute SVD\n",
    "    Y = []\n",
    "    for rank_i in range(mpi_ranks):\n",
    "        s = client.get_tensor(f\"svd_ensemble_{rank_i}.partSVD_s_mpi_rank_{rank_i}\")\n",
    "        VT = client.get_tensor(f\"svd_ensemble_{rank_i}.partSVD_VT_mpi_rank_{rank_i}\")\n",
    "        Y.append(np.diag(s) @ VT)\n",
    "    Y = np.concatenate(Y, axis=0)\n",
    "    Uy, sy, VTy = np.linalg.svd(Y, full_matrices=False)\n",
    "    client.put_tensor(\"partSVD_Uy\", Uy)\n",
    "    client.put_tensor(\"partSVD_sy\", sy)\n",
    "    client.put_tensor(\"partSVD_VTy\", VTy)\n",
    "    # compute global left singular vectors and reconstruction\n",
    "    rec_settings = exp.create_run_settings(exe=\"python3\", exe_args=f\"reconstruction.py\")\n",
    "    params = {\n",
    "        \"mpi_rank\" : list(range(mpi_ranks)),\n",
    "        \"svd_rank\" : svd_rank\n",
    "    }\n",
    "    ensemble = exp.create_ensemble(\"rec_ensemble\", params=params, run_settings=rec_settings, perm_strategy=\"all_perm\")\n",
    "    config_file = \"./reconstruction.py\"\n",
    "    ensemble.attach_generator_files(to_configure=config_file)\n",
    "    exp.generate(ensemble, overwrite=True)\n",
    "    exp.start(ensemble, summary=False, block=True)"
   ]
  },
  {
   "cell_type": "code",
   "execution_count": 9,
   "id": "7eba1cdb-7811-454e-98ad-e0ec9ec79d37",
   "metadata": {},
   "outputs": [],
   "source": [
    "def compute_reconstruction_error(svd_rank):\n",
    "    rec = []\n",
    "    for rank_i in range(mpi_ranks):\n",
    "        rec_i = []\n",
    "        name = f\"rec_ensemble_{rank_i}.rank_{svd_rank}_field_name_{field_name}_mpi_rank_{rank_i}_\"\n",
    "        for i, ti in enumerate(time_indices):\n",
    "            name_i = name + f\"time_index_{ti}\"\n",
    "            rec_i.append(client.get_tensor(name_i).flatten())\n",
    "        data_i = fetch_timeseries(time_indices, rank_i)\n",
    "        rec_i = np.vstack(rec_i).T\n",
    "        rec.append(rec_i)\n",
    "    rec = np.concatenate(rec, axis=0)\n",
    "    data = [fetch_timeseries(time_indices, rank_i) for rank_i in range(mpi_ranks)]\n",
    "    data = np.concatenate(data, axis=0)\n",
    "    return np.linalg.norm(rec - data) / np.linalg.norm(data)"
   ]
  },
  {
   "cell_type": "code",
   "execution_count": 10,
   "id": "b3e69828-a188-43b7-b64d-3dfe65c5f099",
   "metadata": {},
   "outputs": [],
   "source": [
    "def compute_reconstruction_error_global(svd_rank):\n",
    "    data = [fetch_timeseries(time_indices, rank_i) for rank_i in range(mpi_ranks)]\n",
    "    data = np.concatenate(data, axis=0)\n",
    "    U, s, VT = np.linalg.svd(data, full_matrices=False)\n",
    "    rec = U[:, :svd_rank] @ np.diag(s[:svd_rank]) @ VT[:svd_rank]\n",
    "    return np.linalg.norm(rec - data) / np.linalg.norm(data)"
   ]
  },
  {
   "cell_type": "code",
   "execution_count": 11,
   "id": "07fbdc42-f1ab-4bc7-ac07-8172f5d0c4fb",
   "metadata": {},
   "outputs": [
    {
     "name": "stdout",
     "output_type": "stream",
     "text": [
      "15:51:07 andre-XP1511 SmartSim[93200] INFO svd_ensemble_0(93978): Completed\n",
      "15:51:09 andre-XP1511 SmartSim[93200] INFO svd_ensemble_1(93998): Completed\n",
      "15:51:09 andre-XP1511 SmartSim[93200] INFO svd_ensemble_2(94014): Completed\n",
      "15:51:09 andre-XP1511 SmartSim[93200] INFO svd_ensemble_3(94034): Completed\n",
      "15:51:11 andre-XP1511 SmartSim[93200] INFO rec_ensemble_0(94069): Completed\n",
      "15:51:13 andre-XP1511 SmartSim[93200] INFO rec_ensemble_1(94089): Completed\n",
      "15:51:13 andre-XP1511 SmartSim[93200] INFO rec_ensemble_2(94105): Completed\n",
      "15:51:13 andre-XP1511 SmartSim[93200] INFO rec_ensemble_3(94125): Completed\n",
      "15:51:19 andre-XP1511 SmartSim[93200] INFO svd_ensemble_0(94158): Completed\n",
      "15:51:21 andre-XP1511 SmartSim[93200] INFO svd_ensemble_1(94174): Completed\n",
      "15:51:21 andre-XP1511 SmartSim[93200] INFO svd_ensemble_2(94194): Completed\n",
      "15:51:21 andre-XP1511 SmartSim[93200] INFO svd_ensemble_3(94214): Completed\n",
      "15:51:21 andre-XP1511 SmartSim[93200] INFO svd_ensemble_1(94174): Completed\n",
      "15:51:21 andre-XP1511 SmartSim[93200] INFO svd_ensemble_2(94194): Completed\n",
      "15:51:21 andre-XP1511 SmartSim[93200] INFO svd_ensemble_3(94214): Completed\n",
      "15:51:29 andre-XP1511 SmartSim[93200] INFO rec_ensemble_0(94254): Completed\n",
      "15:51:29 andre-XP1511 SmartSim[93200] INFO rec_ensemble_2(94296): Completed\n",
      "15:51:31 andre-XP1511 SmartSim[93200] INFO rec_ensemble_1(94274): Completed\n",
      "15:51:31 andre-XP1511 SmartSim[93200] INFO rec_ensemble_3(94316): Completed\n",
      "15:51:37 andre-XP1511 SmartSim[93200] INFO svd_ensemble_0(94348): Completed\n",
      "15:51:37 andre-XP1511 SmartSim[93200] INFO svd_ensemble_1(94364): Completed\n",
      "15:51:37 andre-XP1511 SmartSim[93200] INFO svd_ensemble_3(94408): Completed\n",
      "15:51:38 andre-XP1511 SmartSim[93200] INFO svd_ensemble_2(94384): Completed\n",
      "15:51:39 andre-XP1511 SmartSim[93200] INFO svd_ensemble_2(94384): Completed\n",
      "15:51:45 andre-XP1511 SmartSim[93200] INFO rec_ensemble_0(94447): Completed\n",
      "15:51:45 andre-XP1511 SmartSim[93200] INFO rec_ensemble_2(94483): Completed\n",
      "15:51:47 andre-XP1511 SmartSim[93200] INFO rec_ensemble_1(94467): Completed\n",
      "15:51:47 andre-XP1511 SmartSim[93200] INFO rec_ensemble_3(94503): Completed\n",
      "15:51:53 andre-XP1511 SmartSim[93200] INFO svd_ensemble_0(94540): Completed\n",
      "15:51:53 andre-XP1511 SmartSim[93200] INFO svd_ensemble_1(94560): Completed\n",
      "15:51:53 andre-XP1511 SmartSim[93200] INFO svd_ensemble_3(94596): Completed\n",
      "15:51:55 andre-XP1511 SmartSim[93200] INFO svd_ensemble_2(94576): Completed\n",
      "15:51:55 andre-XP1511 SmartSim[93200] INFO svd_ensemble_2(94576): Completed\n",
      "15:52:01 andre-XP1511 SmartSim[93200] INFO rec_ensemble_0(94638): Completed\n",
      "15:52:03 andre-XP1511 SmartSim[93200] INFO rec_ensemble_1(94658): Completed\n",
      "15:52:03 andre-XP1511 SmartSim[93200] INFO rec_ensemble_2(94678): Completed\n",
      "15:52:03 andre-XP1511 SmartSim[93200] INFO rec_ensemble_3(94694): Completed\n"
     ]
    }
   ],
   "source": [
    "test_ranks = (2, 4, 8, 16)\n",
    "for r in test_ranks:\n",
    "    compute_partitioned_svd(r)"
   ]
  },
  {
   "cell_type": "markdown",
   "id": "d6b4d8e7-ffe3-4cfa-b361-06012c4f4afe",
   "metadata": {},
   "source": [
    "## Reconstruction error"
   ]
  },
  {
   "cell_type": "code",
   "execution_count": 12,
   "id": "b0d56a3f-86cf-488b-a1c8-61dea9a56ac7",
   "metadata": {},
   "outputs": [],
   "source": [
    "part_svd_error = [compute_reconstruction_error(r) for r in test_ranks]"
   ]
  },
  {
   "cell_type": "code",
   "execution_count": 13,
   "id": "2e8a2e85-cf8b-4a0d-a214-c2a13bd0c164",
   "metadata": {},
   "outputs": [],
   "source": [
    "svd_error = [compute_reconstruction_error_global(r) for r in range(1, 21)]"
   ]
  },
  {
   "cell_type": "code",
   "execution_count": 14,
   "id": "c763e321-97a3-44dd-bb61-cdc7dde6c6c6",
   "metadata": {},
   "outputs": [
    {
     "data": {
      "image/png": "[encoded data removed]",
      "text/plain": [
       "<Figure size 1080x540 with 1 Axes>"
      ]
     },
     "metadata": {},
     "output_type": "display_data"
    }
   ],
   "source": [
    "fig, ax = plt.subplots(figsize=(6, 3))\n",
    "ax.plot(range(1, 21), svd_error, c=\"k\", label=\"standard SVD\")\n",
    "ax.scatter(test_ranks, part_svd_error, c=\"k\", marker=\"o\", label=\"partitioned SVD\")\n",
    "ax.set_xticks([1, 5, 10, 15, 20])\n",
    "ax.set_xlim(1, 20)\n",
    "ax.legend()\n",
    "ax.set_xlabel(r\"$r$\")\n",
    "ax.set_ylabel(r\"$E_\\mathrm{rec}$\")\n",
    "plt.show()"
   ]
  },
  {
   "cell_type": "markdown",
   "id": "91afe583-7108-4185-aade-d92eb9a8b95a",
   "metadata": {},
   "source": [
    "## Transferring the data back to OpenFOAM"
   ]
  },
  {
   "cell_type": "code",
   "execution_count": 15,
   "id": "05ccd4f7-9b10-41fb-8362-fa2e1c07345c",
   "metadata": {},
   "outputs": [
    {
     "name": "stdout",
     "output_type": "stream",
     "text": [
      "15:53:17 andre-XP1511 SmartSim[93200] INFO svdToFoam(94841): Completed\n",
      "15:53:21 andre-XP1511 SmartSim[93200] INFO svdToFoam(94892): Completed\n",
      "15:53:25 andre-XP1511 SmartSim[93200] INFO svdToFoam(94939): Completed\n",
      "15:53:31 andre-XP1511 SmartSim[93200] INFO svdToFoam(94980): Completed\n"
     ]
    }
   ],
   "source": [
    "for r in test_ranks:\n",
    "    settings = exp.create_run_settings(\n",
    "        exe=\"svdToFoam\",\n",
    "        exe_args=f\"-case {case_name} -fieldName {field_name} -svdRank {r} -FOName {fo_name} -parallel\",\n",
    "        run_command=\"mpirun\", run_args={\"np\": f\"{mpi_ranks}\"}\n",
    "    )\n",
    "\n",
    "    model = exp.create_model(name=\"svdToFoam\", run_settings=settings)\n",
    "    exp.start(model, summary=False, block=True)"
   ]
  },
  {
   "cell_type": "markdown",
   "id": "0b1ee6a1-7e51-4829-8fde-6533be8d3465",
   "metadata": {},
   "source": [
    "## Stopping the database"
   ]
  },
  {
   "cell_type": "code",
   "execution_count": 16,
   "id": "7323ef6b-2334-4473-8736-8406e5b4bfef",
   "metadata": {},
   "outputs": [],
   "source": [
    "exp.stop(db)"
   ]
  }
 ],
 "metadata": {
  "kernelspec": {
   "display_name": "Python 3 (ipykernel)",
   "language": "python",
   "name": "python3"
  },
  "language_info": {
   "codemirror_mode": {
    "name": "ipython",
    "version": 3
   },
   "file_extension": ".py",
   "mimetype": "text/x-python",
   "name": "python",
   "nbconvert_exporter": "python",
   "pygments_lexer": "ipython3",
   "version": "3.10.12"
  }
 },
 "nbformat": 4,
 "nbformat_minor": 5
}
